{
  "nbformat": 4,
  "nbformat_minor": 0,
  "metadata": {
    "colab": {
      "provenance": []
    },
    "kernelspec": {
      "name": "python3",
      "display_name": "Python 3"
    },
    "language_info": {
      "name": "python"
    }
  },
  "cells": [
    {
      "cell_type": "markdown",
      "source": [],
      "metadata": {
        "id": "_4IjAr7pHBID"
      }
    },
    {
      "cell_type": "markdown",
      "source": [
        "NewsAPI\n",
        "\n",
        "Chave: 2873814de1f548ddb7bb7508639a9721"
      ],
      "metadata": {
        "id": "WhHTMkVlCmEa"
      }
    },
    {
      "cell_type": "code",
      "execution_count": null,
      "metadata": {
        "colab": {
          "base_uri": "https://localhost:8080/"
        },
        "collapsed": true,
        "id": "qcQBKbPsBucC",
        "outputId": "172bc429-71c0-411e-9afe-5d0a32294e1a"
      },
      "outputs": [
        {
          "output_type": "stream",
          "name": "stdout",
          "text": [
            "Collecting newsapi-python\n",
            "  Downloading newsapi_python-0.2.7-py2.py3-none-any.whl.metadata (1.2 kB)\n",
            "Requirement already satisfied: requests<3.0.0 in /usr/local/lib/python3.11/dist-packages (from newsapi-python) (2.32.3)\n",
            "Requirement already satisfied: charset-normalizer<4,>=2 in /usr/local/lib/python3.11/dist-packages (from requests<3.0.0->newsapi-python) (3.4.1)\n",
            "Requirement already satisfied: idna<4,>=2.5 in /usr/local/lib/python3.11/dist-packages (from requests<3.0.0->newsapi-python) (3.10)\n",
            "Requirement already satisfied: urllib3<3,>=1.21.1 in /usr/local/lib/python3.11/dist-packages (from requests<3.0.0->newsapi-python) (2.3.0)\n",
            "Requirement already satisfied: certifi>=2017.4.17 in /usr/local/lib/python3.11/dist-packages (from requests<3.0.0->newsapi-python) (2025.1.31)\n",
            "Downloading newsapi_python-0.2.7-py2.py3-none-any.whl (7.9 kB)\n",
            "Installing collected packages: newsapi-python\n",
            "Successfully installed newsapi-python-0.2.7\n"
          ]
        }
      ],
      "source": [
        "pip install newsapi-python"
      ]
    },
    {
      "cell_type": "code",
      "source": [
        "from newsapi import NewsApiClient\n",
        "import pandas as pd\n",
        "from datetime import datetime, timedelta"
      ],
      "metadata": {
        "id": "DptK2VuuGF5z"
      },
      "execution_count": null,
      "outputs": []
    },
    {
      "cell_type": "code",
      "source": [
        "API_KEY = '2873814de1f548ddb7bb7508639a9721'\n",
        "newsapi = NewsApiClient(api_key='2873814de1f548ddb7bb7508639a9721')\n",
        "\n",
        "query = \"inteligencia artificial\"\n",
        "language = \"pt\"\n",
        "page_size = 100\n",
        "\n",
        "\n",
        "end_date = datetime.now()\n",
        "start_date = end_date - timedelta(days=30)"
      ],
      "metadata": {
        "id": "biV_AAjOGJjF"
      },
      "execution_count": 27,
      "outputs": []
    },
    {
      "cell_type": "code",
      "source": [
        "articles = newsapi.get_everything(\n",
        "    q=query,\n",
        "    language=language,\n",
        "    from_param=start_date.strftime('%Y-%m-%d'),\n",
        "    to=end_date.strftime('%Y-%m-%d'),\n",
        "    sort_by=\"relevancy\",\n",
        "    page_size=page_size\n",
        ")\n"
      ],
      "metadata": {
        "collapsed": true,
        "id": "yvWQf0q2DaMS"
      },
      "execution_count": 32,
      "outputs": []
    },
    {
      "cell_type": "code",
      "source": [
        "df = pd.DataFrame(articles['articles'])\n",
        "\n",
        "df['publishedAt'] = pd.to_datetime(df['publishedAt']).dt.date\n",
        "df = df[['title', 'description', 'source', 'publishedAt', 'url']]\n",
        "\n",
        "\n",
        "df.to_csv(f\"noticias_{query.replace(' ', '_')}.csv\", index=False, encoding='utf-8-sig')"
      ],
      "metadata": {
        "id": "go9gsOjmDm9J",
        "collapsed": true
      },
      "execution_count": 33,
      "outputs": []
    },
    {
      "cell_type": "code",
      "source": [
        "print(f\"{len(df)} notícias salvas em 'noticias_{query.replace(' ', '_')}.csv'\")\n",
        "print(df.head())"
      ],
      "metadata": {
        "colab": {
          "base_uri": "https://localhost:8080/"
        },
        "collapsed": true,
        "id": "PTpVHHeFGQJI",
        "outputId": "95685f43-825a-45aa-98f5-493a596d8ef4"
      },
      "execution_count": 34,
      "outputs": [
        {
          "output_type": "stream",
          "name": "stdout",
          "text": [
            "8 notícias salvas em 'noticias_inteligencia_artificial.csv'\n",
            "                                               title  \\\n",
            "0        Habilidades humanas permanecem na era da IA   \n",
            "1  Uso da inteligência artificial na arbitragem d...   \n",
            "2  Inteligência artificial na Justiça brasileira:...   \n",
            "3  Morosidade no sistema judiciário: problema não...   \n",
            "4  Robôs e decisão judicial: entre calvinball e m...   \n",
            "\n",
            "                                         description  \\\n",
            "0  Profissionais adotam habilidades humanas como ...   \n",
            "1  O uso da inteligência artificial vem tendo cre...   \n",
            "2  A crescente adoção da inteligência artificial ...   \n",
            "3  A morosidade no Judiciário brasileiro é um pro...   \n",
            "4  Experiências e estudos mais atuais [1] têm con...   \n",
            "\n",
            "                                  source publishedAt  \\\n",
            "0   {'id': None, 'name': 'Terra.com.br'}  2025-03-24   \n",
            "1  {'id': None, 'name': 'Conjur.com.br'}  2025-04-04   \n",
            "2  {'id': None, 'name': 'Conjur.com.br'}  2025-03-15   \n",
            "3  {'id': None, 'name': 'Conjur.com.br'}  2025-03-18   \n",
            "4  {'id': None, 'name': 'Conjur.com.br'}  2025-03-15   \n",
            "\n",
            "                                                 url  \n",
            "0  https://www.terra.com.br/noticias/habilidades-...  \n",
            "1  https://www.conjur.com.br/2025-abr-03/uso-da-i...  \n",
            "2  https://www.conjur.com.br/2025-mar-15/intelige...  \n",
            "3  https://www.conjur.com.br/2025-mar-18/morosida...  \n",
            "4  https://www.conjur.com.br/2025-mar-15/robos-e-...  \n"
          ]
        }
      ]
    }
  ]
}